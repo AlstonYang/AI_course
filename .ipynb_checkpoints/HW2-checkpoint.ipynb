{
 "cells": [
  {
   "cell_type": "markdown",
   "metadata": {
    "id": "V3ckGCsc59zR"
   },
   "source": [
    "## Import related API"
   ]
  },
  {
   "cell_type": "code",
   "execution_count": 1,
   "metadata": {
    "executionInfo": {
     "elapsed": 3044,
     "status": "ok",
     "timestamp": 1616838642242,
     "user": {
      "displayName": "楊仁瀚",
      "photoUrl": "",
      "userId": "10638930497464391672"
     },
     "user_tz": -480
    },
    "id": "DZ7-4Lqg3y5y"
   },
   "outputs": [
    {
     "name": "stdout",
     "output_type": "stream",
     "text": [
      "INFO:tensorflow:Enabling eager execution\n",
      "INFO:tensorflow:Enabling v2 tensorshape\n",
      "INFO:tensorflow:Enabling resource variables\n",
      "INFO:tensorflow:Enabling tensor equality\n",
      "INFO:tensorflow:Enabling control flow v2\n"
     ]
    }
   ],
   "source": [
    "import pandas as pd\n",
    "import numpy as np\n",
    "import matplotlib.pyplot as plt\n",
    "\n",
    "import tensorflow as tf\n",
    "import tensorflow.keras as keras\n",
    "from tensorflow.keras import Sequential, layers, backend\n",
    "from tensorflow.keras.layers import Dense, LSTM, Dropout, TimeDistributed, LeakyReLU, GRU, BatchNormalization\n",
    "from keras.layers.core import RepeatVector\n",
    "from keras.callbacks import EarlyStopping\n",
    "\n",
    "from sklearn.svm import SVR\n",
    "from sklearn.linear_model import LinearRegression\n",
    "from sklearn.metrics import mean_squared_error\n",
    "\n",
    "from itertools import product\n",
    "\n",
    "%matplotlib inline"
   ]
  },
  {
   "cell_type": "markdown",
   "metadata": {},
   "source": [
    "### Control the upper limit of GPU memory"
   ]
  },
  {
   "cell_type": "code",
   "execution_count": 2,
   "metadata": {},
   "outputs": [],
   "source": [
    "gpu_options = tf.compat.v1.GPUOptions(per_process_gpu_memory_fraction=0.3)\n",
    "sess = tf.compat.v1.Session(config=tf.compat.v1.ConfigProto(gpu_options=gpu_options))\n",
    "tf.compat.v1.keras.backend.set_session(sess)"
   ]
  },
  {
   "cell_type": "markdown",
   "metadata": {},
   "source": [
    "### Read the data"
   ]
  },
  {
   "cell_type": "code",
   "execution_count": 3,
   "metadata": {
    "colab": {
     "base_uri": "https://localhost:8080/"
    },
    "executionInfo": {
     "elapsed": 20157,
     "status": "ok",
     "timestamp": 1616838659374,
     "user": {
      "displayName": "楊仁瀚",
      "photoUrl": "",
      "userId": "10638930497464391672"
     },
     "user_tz": -480
    },
    "id": "HovSE_YS9AEO",
    "outputId": "d327c0b4-23c7-4c81-8577-38a0118688d2"
   },
   "outputs": [],
   "source": [
    "# from google.colab import drive\n",
    "# drive.mount('/content/gdrive')\n",
    "\n",
    "def read(path):\n",
    "    return pd.read_csv(path)"
   ]
  },
  {
   "cell_type": "code",
   "execution_count": 4,
   "metadata": {
    "executionInfo": {
     "elapsed": 20721,
     "status": "ok",
     "timestamp": 1616838659941,
     "user": {
      "displayName": "楊仁瀚",
      "photoUrl": "",
      "userId": "10638930497464391672"
     },
     "user_tz": -480
    },
    "id": "GxcSLwVY9FKy"
   },
   "outputs": [],
   "source": [
    "path = \"WeeklyFinalData.csv\"\n",
    "finalData = read(path)"
   ]
  },
  {
   "cell_type": "code",
   "execution_count": 5,
   "metadata": {
    "executionInfo": {
     "elapsed": 20719,
     "status": "ok",
     "timestamp": 1616838659942,
     "user": {
      "displayName": "楊仁瀚",
      "photoUrl": "",
      "userId": "10638930497464391672"
     },
     "user_tz": -480
    },
    "id": "dkK-XcAq13_c"
   },
   "outputs": [],
   "source": [
    "train = finalData"
   ]
  },
  {
   "cell_type": "code",
   "execution_count": 6,
   "metadata": {
    "executionInfo": {
     "elapsed": 20717,
     "status": "ok",
     "timestamp": 1616838659942,
     "user": {
      "displayName": "楊仁瀚",
      "photoUrl": "",
      "userId": "10638930497464391672"
     },
     "user_tz": -480
    },
    "id": "W0abl5uIau_W"
   },
   "outputs": [],
   "source": [
    "date = train[\"Date\"]\n",
    "train.drop(\"Date\",axis=1,inplace=True)"
   ]
  },
  {
   "cell_type": "markdown",
   "metadata": {
    "id": "YRozLYRpau_Y"
   },
   "source": [
    "## Data preprocessing"
   ]
  },
  {
   "cell_type": "markdown",
   "metadata": {
    "id": "qOMLTo856gQc"
   },
   "source": [
    "### Add lag time as a predicted factor \n",
    "1. Add lag time from 1 to 4 for CCSP (Yangtze River nonferrous metals, China)\n",
    "2. Split the data to Training set & Test set"
   ]
  },
  {
   "cell_type": "code",
   "execution_count": 7,
   "metadata": {
    "executionInfo": {
     "elapsed": 20717,
     "status": "ok",
     "timestamp": 1616838659943,
     "user": {
      "displayName": "楊仁瀚",
      "photoUrl": "",
      "userId": "10638930497464391672"
     },
     "user_tz": -480
    },
    "id": "dXrI2P985jos"
   },
   "outputs": [],
   "source": [
    "def buildTrain(train, pastWeek=1, futureWeek=4, defaultWeek=1):\n",
    "    X_train, Y_train = [], []\n",
    "    for i in range(train.shape[0]-futureWeek-pastWeek):\n",
    "        X = np.array(train.iloc[i:i+defaultWeek])\n",
    "        X = np.append(X,train[\"CCSP\"].iloc[i+defaultWeek:i+pastWeek])\n",
    "        X_train.append(X.reshape(X.size))\n",
    "        Y_train.append(np.array(train.iloc[i+pastWeek:i+pastWeek+futureWeek][\"CCSP\"]))\n",
    "    return np.array(X_train), np.array(Y_train)"
   ]
  },
  {
   "cell_type": "markdown",
   "metadata": {
    "id": "2Zj_gcccau_Z"
   },
   "source": [
    "### Min-max scaling \n",
    "The data is scaled to a fixed range [0,1]"
   ]
  },
  {
   "cell_type": "code",
   "execution_count": 8,
   "metadata": {
    "executionInfo": {
     "elapsed": 20714,
     "status": "ok",
     "timestamp": 1616838659943,
     "user": {
      "displayName": "楊仁瀚",
      "photoUrl": "",
      "userId": "10638930497464391672"
     },
     "user_tz": -480
    },
    "id": "q4tnCc9Ci5-3"
   },
   "outputs": [],
   "source": [
    "from sklearn.preprocessing import MinMaxScaler\n",
    "sc = MinMaxScaler(feature_range = (0, 1))"
   ]
  },
  {
   "cell_type": "markdown",
   "metadata": {
    "id": "ZJl8fc4StNyV"
   },
   "source": [
    "### Setting the format of the learning graph"
   ]
  },
  {
   "cell_type": "code",
   "execution_count": 9,
   "metadata": {
    "executionInfo": {
     "elapsed": 20711,
     "status": "ok",
     "timestamp": 1616838659944,
     "user": {
      "displayName": "楊仁瀚",
      "photoUrl": "",
      "userId": "10638930497464391672"
     },
     "user_tz": -480
    },
    "id": "PcEcx1JujxBF"
   },
   "outputs": [],
   "source": [
    "def show_raw_visualization(data):\n",
    "\n",
    "    fig, axes = plt.subplots(\n",
    "        nrows=int(round(data.shape[1]/2,0)), ncols=2, figsize=(15, 5), dpi=80, facecolor=\"w\", edgecolor=\"k\"\n",
    "    )\n",
    "\n",
    "    for i in range(data.shape[1]):\n",
    "        t_data = data.iloc[:,i]\n",
    "        ax = t_data.plot(\n",
    "            ax=axes[i % 2],\n",
    "            color=\"black\",\n",
    "            # title=\"Lag:{0}, {1} curve\".format(lag_time+1, data.columns[i])\n",
    "        )\n",
    "    \n",
    "#     fig.set_size_inches(10,15)\n",
    "        \n",
    "    plt.tight_layout()"
   ]
  },
  {
   "cell_type": "markdown",
   "metadata": {},
   "source": [
    "### Add data to the specified time lag and normalize"
   ]
  },
  {
   "cell_type": "code",
   "execution_count": 37,
   "metadata": {
    "executionInfo": {
     "elapsed": 20702,
     "status": "ok",
     "timestamp": 1616838659944,
     "user": {
      "displayName": "楊仁瀚",
      "photoUrl": "",
      "userId": "10638930497464391672"
     },
     "user_tz": -480
    },
    "id": "9aCU6PXt7Ydb"
   },
   "outputs": [],
   "source": [
    "def dataTimeLag(time_lag):\n",
    "\n",
    "    print(\"Lag time = {}\".format(time_lag))\n",
    "    ## Time lag\n",
    "    X1_train, Y1_train= buildTrain(train, pastWeek=time_lag, futureWeek=1)\n",
    "\n",
    "    ## Split date to training & test data\n",
    "    X1_training = pd.DataFrame(X1_train[0:int(X1_train.shape[0]*0.8)])\n",
    "    X1_test = pd.DataFrame(X1_train[int(X1_train.shape[0]*0.8):])\n",
    "\n",
    "    Y1_training = pd.DataFrame(Y1_train[0:int(Y1_train.shape[0]*0.8)])\n",
    "    Y1_test = pd.DataFrame(Y1_train[int(Y1_train.shape[0]*0.8):])\n",
    "\n",
    "    # Normalize\n",
    "    print(\"---Normalize---\")\n",
    "    X1_training_scaled = sc.fit_transform(X1_training)\n",
    "    X1_test_scaled = sc.transform(X1_test)\n",
    "\n",
    "    Y1_training_scaled = sc.fit_transform(Y1_training)\n",
    "#     Y1_test_scaled = sc.transform(Y1_test)\n",
    "    \n",
    "    ##Test\n",
    "    Y1_test_scaled = Y1_test.values\n",
    "\n",
    "    # Check the data dimension\n",
    "#     print(\"---Check the data dimension---\")\n",
    "#     print(\"X1_training_scaled:{0}\".format(X1_training_scaled.shape))\n",
    "#     print(\"Y1_training_scaled:{0}\".format(Y1_training_scaled.shape))\n",
    "#     print(\"X1_test_scaled:{0}\".format(X1_test_scaled.shape))\n",
    "#     print(\"Y1_test_scaled:{0}\".format(Y1_test_scaled.shape))\n",
    "\n",
    "#     return [X1_training, Y1_training, X1_test, Y1_test]\n",
    "    return [X1_training_scaled, Y1_training_scaled, X1_test_scaled, Y1_test_scaled]"
   ]
  },
  {
   "cell_type": "code",
   "execution_count": 38,
   "metadata": {},
   "outputs": [
    {
     "name": "stdout",
     "output_type": "stream",
     "text": [
      "Lag time = 4\n",
      "---Normalize---\n",
      "(380, 18)\n",
      "(380, 1)\n",
      "(95, 18)\n",
      "(95, 1)\n"
     ]
    }
   ],
   "source": [
    "data = dataTimeLag(4)\n",
    "\n",
    "for i in data:\n",
    "    print(i.shape)"
   ]
  },
  {
   "cell_type": "markdown",
   "metadata": {
    "id": "PqNv5vJyPsBE"
   },
   "source": [
    "## Building Model"
   ]
  },
  {
   "cell_type": "markdown",
   "metadata": {
    "id": "fXho5zzj6N9J"
   },
   "source": [
    "### 2-layer Neural Network"
   ]
  },
  {
   "cell_type": "code",
   "execution_count": 12,
   "metadata": {
    "executionInfo": {
     "elapsed": 20695,
     "status": "ok",
     "timestamp": 1616838659945,
     "user": {
      "displayName": "楊仁瀚",
      "photoUrl": "",
      "userId": "10638930497464391672"
     },
     "user_tz": -480
    },
    "id": "BVmQxhxKwuJF"
   },
   "outputs": [],
   "source": [
    "def buildTwoLayerNN(training_data_shape, setting):\n",
    "\n",
    "    keras.backend.clear_session()\n",
    "    regressor = Sequential()\n",
    "    L2 = tf.keras.regularizers.L2(setting[4])\n",
    "    regressor.add(Dense(units=setting[1], activation =setting[0], input_dim=training_data_shape, kernel_initializer = setting[2], kernel_regularizer= L2))\n",
    "    regressor.add(Dense(units=1)) \n",
    "\n",
    "    # adam = optimizers.Adam(lr=0.0001,beta_1=0.9,beta_2=0.999, decay=1e-6)\n",
    "\n",
    "    regressor.compile(optimizer=setting[3], loss=\"mean_squared_error\", metrics=[tf.keras.metrics.RootMeanSquaredError()])\n",
    "    # regressor.summary()\n",
    "\n",
    "    return regressor"
   ]
  },
  {
   "cell_type": "markdown",
   "metadata": {},
   "source": [
    "### Performance evaluation"
   ]
  },
  {
   "cell_type": "code",
   "execution_count": 13,
   "metadata": {},
   "outputs": [],
   "source": [
    "def accuracy_eva(raw_data, predict_data, price_range):\n",
    "    total_times = raw_data.shape[0]\n",
    "    correct_times = 0\n",
    "#     raw_data=raw_data.values\n",
    "    \n",
    "  ##Test\n",
    "#     print(type(raw_data))\n",
    "#     print(type(predict_data))\n",
    "\n",
    "    for i in range(raw_data.shape[0]): \n",
    "       \n",
    "#         print(raw_data[i], predict_data[i])\n",
    "        \n",
    "        if ((raw_data[i]-price_range) <= predict_data[i]) and (predict_data[i] <= (raw_data[i]+price_range)):\n",
    "            correct_times +=1\n",
    "            \n",
    "    return (correct_times/total_times)"
   ]
  },
  {
   "cell_type": "markdown",
   "metadata": {},
   "source": [
    "### Training the model"
   ]
  },
  {
   "cell_type": "code",
   "execution_count": 39,
   "metadata": {
    "executionInfo": {
     "elapsed": 20689,
     "status": "ok",
     "timestamp": 1616838659945,
     "user": {
      "displayName": "楊仁瀚",
      "photoUrl": "",
      "userId": "10638930497464391672"
     },
     "user_tz": -480
    },
    "id": "ItBqvK4L9-UN"
   },
   "outputs": [],
   "source": [
    "def training_model(data, setting, setting_name):\n",
    "\n",
    "    ## data\n",
    "    ### [X1_training_scaled, Y1_training_scaled, X1_test_scaled, Y1_test_scaled]\n",
    "\n",
    "    ## Training model\n",
    "\n",
    "    #training_data_shape, activation_function, hidden_node, initializer, optimizer\n",
    "    input_sahpe = data[0].shape[1]\n",
    "    regressor = buildTwoLayerNN(input_sahpe, setting[1:])\n",
    "    history = regressor.fit(data[0], data[1], epochs= setting[0], verbose=0)\n",
    "\n",
    "    ## Draw the learning graph\n",
    "    RMSE = [i for i in history.history[\"root_mean_squared_error\"]]\n",
    "    score_data = pd.DataFrame({\"Loss\":history.history[\"loss\"], \"RMSE\":RMSE})\n",
    "\n",
    "    ## Evaluate the model using testing data\n",
    "    # scores = regressor.evaluate(data[2], data[3])  \n",
    "\n",
    "    ##Test\n",
    "    predict = regressor.predict(data[2])\n",
    "    ##Test\n",
    "    \n",
    "#     if (np.isnan(predict).sum()>0):\n",
    "#         print(setting_name)\n",
    "#         score = float(\"inf\")\n",
    "#         accuracy = 0\n",
    "    \n",
    "#     else:\n",
    "\n",
    "    Y_testing_data = data[3]\n",
    "    predict = sc.inverse_transform(predict)\n",
    "    \n",
    "    score = np.sqrt(mean_squared_error(predict, Y_testing_data))\n",
    "    accuracy = accuracy_eva(Y_testing_data, predict, 3000)\n",
    "    \n",
    "    performance = {\n",
    "        \"Epochs\":setting_name[0],\n",
    "        \"Activation function\":setting_name[1],\n",
    "        \"Hidden nodes\":setting_name[2],\n",
    "        \"Initializer\":setting_name[3],\n",
    "        \"Optimizer\":setting_name[4],\n",
    "        \"Regularizer\":setting_name[5],\n",
    "        \"In-sample RMSE\": RMSE[-1],\n",
    "        \"Out-of-sample RMSE\": score,\n",
    "        \"Out-of-sample Accuracy\": accuracy\n",
    "      # \"RMSE\":scores[1]\n",
    "    }\n",
    "    # print(\"[Out-of-sample performance] \\nEpochs: %d\\nActivation function: %s\\nHidden nodes: %d\\nOptimizer: %s\\nRMSE: %.3f\" %(setting[0], setting[1], setting[2], setting[4], scores[1]))\n",
    "    # show_raw_visualization(score_data)\n",
    "    # print()\n",
    "\n",
    "    ##Test\n",
    "    predicts = pd.DataFrame(predict)\n",
    "    return performance, predicts.stack().reset_index(drop=True)"
   ]
  },
  {
   "cell_type": "markdown",
   "metadata": {},
   "source": [
    "### Control model Hyperparameter\n",
    "such as:\n",
    "* input factor dimension\n",
    "* epoch\n",
    "* activation_function\n",
    "* hidden_node\n",
    "* initializer\n",
    "* optimizer"
   ]
  },
  {
   "cell_type": "code",
   "execution_count": 40,
   "metadata": {
    "colab": {
     "base_uri": "https://localhost:8080/",
     "height": 236
    },
    "executionInfo": {
     "elapsed": 21140,
     "status": "error",
     "timestamp": 1616838660407,
     "user": {
      "displayName": "楊仁瀚",
      "photoUrl": "",
      "userId": "10638930497464391672"
     },
     "user_tz": -480
    },
    "id": "vxaHHmlcDxkt",
    "outputId": "f3bddc5f-f230-491b-bd9f-10930a74f763"
   },
   "outputs": [],
   "source": [
    "def main(input_data):\n",
    "\n",
    "    ## data, epoch, activation_function, hidden_node, initializer, optimizer\n",
    "    ## epoches, activation_functions, hidden_nodes選項\n",
    "    epoches = [100, 200, 300]\n",
    "    activation_functions = [\"sigmoid\", \"tanh\", \"relu\"]\n",
    "    hidden_nodes = [5, 8, 11]\n",
    "\n",
    "    ##Test\n",
    "#     epoches = [100]\n",
    "#     activation_functions = [\"sigmoid\"]\n",
    "#     hidden_nodes = [5]\n",
    "\n",
    "\n",
    "    ## initializer 選項\n",
    "    small_random = tf.keras.initializers.RandomNormal(mean=0., stddev=1.)\n",
    "    Xavier = tf.keras.initializers.GlorotNormal()\n",
    "    initializers = [small_random, Xavier]\n",
    "    initializers_name = [\"small_random\", \"Xavier\"]\n",
    "\n",
    "    # optimizer & learning rate decay\n",
    "    learning_rate_fn = tf.keras.optimizers.schedules.CosineDecay(\n",
    "      initial_learning_rate = 0.01, \n",
    "      decay_steps = 10\n",
    "    )\n",
    "\n",
    "    # learning_rate_fn = tf.keras.optimizers.schedules.ExponentialDecay(\n",
    "    #   initial_learning_rate = 0.01, \n",
    "    #   decay_steps = 100, \n",
    "    #   decay_rate = 0.05,\n",
    "    # )\n",
    "\n",
    "    SGD_cosine = tf.keras.optimizers.SGD(\n",
    "      learning_rate=learning_rate_fn,\n",
    "      name = \"SGD_with_cosine\"\n",
    "    )\n",
    "\n",
    "    Adam_cosine = tf.keras.optimizers.Adam(\n",
    "      learning_rate=learning_rate_fn,\n",
    "      name = \"Adam_with_cosine\"\n",
    "    )\n",
    "\n",
    "    Momentum = tf.keras.optimizers.SGD(\n",
    "      learning_rate=0.01,\n",
    "      momentum=0.9,\n",
    "      name = \"Momentum\"\n",
    "    )\n",
    "\n",
    "    Mom_cosine = tf.keras.optimizers.SGD(\n",
    "      learning_rate=learning_rate_fn,\n",
    "      momentum=0.9,\n",
    "      name = \"Momentum_with_cosine\"\n",
    "    )\n",
    "\n",
    "    regularizer= [0, 0.001, 0.0001]\n",
    "    \n",
    "    ## optimizers 選項\n",
    "    optimizers = [\"SGD\", SGD_cosine, \"Adam\", Adam_cosine, Momentum, Mom_cosine]\n",
    "    optimizers_name = [\"SGD\", \"SGD_with_cosine\", \"Adam\", \"Adam_with_cosine\", \"Momentum\", \"Momentum_with_cosine\"]\n",
    "\n",
    "    ##Test\n",
    "#     optimizers = [\"SGD\",\"Adam\"]\n",
    "#     optimizers_name = [\"SGD\",\"Adam\"]\n",
    "\n",
    "    ##所有hyperparameter的組合\n",
    "    sets = list(product(epoches, activation_functions, hidden_nodes, initializers, optimizers, regularizer))\n",
    "    sets_name = list(product(epoches, activation_functions, hidden_nodes, initializers_name, optimizers_name, regularizer))\n",
    "\n",
    "    data = input_data\n",
    "    RMSE_scores = pd.DataFrame(columns = [\"Epochs\", \"Activation function\", \"Hidden nodes\", \"Optimizer\", \"Initializer\",\"Regularizer\",\"In-sample RMSE\",\"Out-of-sample RMSE\", \"Out-of-sample Accuracy\"])\n",
    "    predicts = pd.DataFrame(columns = list(range(94)))\n",
    "    \n",
    "    for i in range(len(sets)):\n",
    "        \n",
    "        performance, predict = training_model(data, sets[i], sets_name[i])\n",
    "        \n",
    "        RMSE_scores = RMSE_scores.append(performance, ignore_index=True)\n",
    "        predicts = predicts.append(predict, ignore_index=True)\n",
    "\n",
    "    return RMSE_scores, predicts"
   ]
  },
  {
   "cell_type": "code",
   "execution_count": 41,
   "metadata": {},
   "outputs": [
    {
     "name": "stdout",
     "output_type": "stream",
     "text": [
      "Lag time = 4\n",
      "---Normalize---\n"
     ]
    }
   ],
   "source": [
    "if __name__ == \"__main__\":\n",
    "    data = dataTimeLag(4)\n",
    "    RMSE_scores, predicts = main(data)"
   ]
  },
  {
   "cell_type": "code",
   "execution_count": 42,
   "metadata": {},
   "outputs": [
    {
     "data": {
      "text/html": [
       "<div>\n",
       "<style scoped>\n",
       "    .dataframe tbody tr th:only-of-type {\n",
       "        vertical-align: middle;\n",
       "    }\n",
       "\n",
       "    .dataframe tbody tr th {\n",
       "        vertical-align: top;\n",
       "    }\n",
       "\n",
       "    .dataframe thead th {\n",
       "        text-align: right;\n",
       "    }\n",
       "</style>\n",
       "<table border=\"1\" class=\"dataframe\">\n",
       "  <thead>\n",
       "    <tr style=\"text-align: right;\">\n",
       "      <th></th>\n",
       "      <th>Epochs</th>\n",
       "      <th>Activation function</th>\n",
       "      <th>Hidden nodes</th>\n",
       "      <th>Optimizer</th>\n",
       "      <th>Initializer</th>\n",
       "      <th>Regularizer</th>\n",
       "      <th>In-sample RMSE</th>\n",
       "      <th>Out-of-sample RMSE</th>\n",
       "      <th>Out-of-sample Accuracy</th>\n",
       "    </tr>\n",
       "  </thead>\n",
       "  <tbody>\n",
       "    <tr>\n",
       "      <th>0</th>\n",
       "      <td>100</td>\n",
       "      <td>sigmoid</td>\n",
       "      <td>5</td>\n",
       "      <td>SGD</td>\n",
       "      <td>small_random</td>\n",
       "      <td>0</td>\n",
       "      <td>0.150369</td>\n",
       "      <td>7493.316221</td>\n",
       "      <td>0.315789</td>\n",
       "    </tr>\n",
       "    <tr>\n",
       "      <th>1</th>\n",
       "      <td>100</td>\n",
       "      <td>sigmoid</td>\n",
       "      <td>5</td>\n",
       "      <td>SGD</td>\n",
       "      <td>small_random</td>\n",
       "      <td>0.001</td>\n",
       "      <td>0.113324</td>\n",
       "      <td>6595.178052</td>\n",
       "      <td>0.263158</td>\n",
       "    </tr>\n",
       "    <tr>\n",
       "      <th>2</th>\n",
       "      <td>100</td>\n",
       "      <td>sigmoid</td>\n",
       "      <td>5</td>\n",
       "      <td>SGD</td>\n",
       "      <td>small_random</td>\n",
       "      <td>0.0001</td>\n",
       "      <td>0.092342</td>\n",
       "      <td>4027.546250</td>\n",
       "      <td>0.621053</td>\n",
       "    </tr>\n",
       "    <tr>\n",
       "      <th>3</th>\n",
       "      <td>100</td>\n",
       "      <td>sigmoid</td>\n",
       "      <td>5</td>\n",
       "      <td>SGD_with_cosine</td>\n",
       "      <td>small_random</td>\n",
       "      <td>0</td>\n",
       "      <td>0.621299</td>\n",
       "      <td>8352.149034</td>\n",
       "      <td>0.136842</td>\n",
       "    </tr>\n",
       "    <tr>\n",
       "      <th>4</th>\n",
       "      <td>100</td>\n",
       "      <td>sigmoid</td>\n",
       "      <td>5</td>\n",
       "      <td>SGD_with_cosine</td>\n",
       "      <td>small_random</td>\n",
       "      <td>0.001</td>\n",
       "      <td>1.297480</td>\n",
       "      <td>33354.532211</td>\n",
       "      <td>0.000000</td>\n",
       "    </tr>\n",
       "    <tr>\n",
       "      <th>...</th>\n",
       "      <td>...</td>\n",
       "      <td>...</td>\n",
       "      <td>...</td>\n",
       "      <td>...</td>\n",
       "      <td>...</td>\n",
       "      <td>...</td>\n",
       "      <td>...</td>\n",
       "      <td>...</td>\n",
       "      <td>...</td>\n",
       "    </tr>\n",
       "    <tr>\n",
       "      <th>967</th>\n",
       "      <td>300</td>\n",
       "      <td>relu</td>\n",
       "      <td>11</td>\n",
       "      <td>Momentum</td>\n",
       "      <td>Xavier</td>\n",
       "      <td>0.001</td>\n",
       "      <td>0.044021</td>\n",
       "      <td>1189.701702</td>\n",
       "      <td>0.978947</td>\n",
       "    </tr>\n",
       "    <tr>\n",
       "      <th>968</th>\n",
       "      <td>300</td>\n",
       "      <td>relu</td>\n",
       "      <td>11</td>\n",
       "      <td>Momentum</td>\n",
       "      <td>Xavier</td>\n",
       "      <td>0.0001</td>\n",
       "      <td>0.045446</td>\n",
       "      <td>2146.052847</td>\n",
       "      <td>0.789474</td>\n",
       "    </tr>\n",
       "    <tr>\n",
       "      <th>969</th>\n",
       "      <td>300</td>\n",
       "      <td>relu</td>\n",
       "      <td>11</td>\n",
       "      <td>Momentum_with_cosine</td>\n",
       "      <td>Xavier</td>\n",
       "      <td>0</td>\n",
       "      <td>0.984046</td>\n",
       "      <td>27641.121815</td>\n",
       "      <td>0.000000</td>\n",
       "    </tr>\n",
       "    <tr>\n",
       "      <th>970</th>\n",
       "      <td>300</td>\n",
       "      <td>relu</td>\n",
       "      <td>11</td>\n",
       "      <td>Momentum_with_cosine</td>\n",
       "      <td>Xavier</td>\n",
       "      <td>0.001</td>\n",
       "      <td>0.935547</td>\n",
       "      <td>19179.876205</td>\n",
       "      <td>0.000000</td>\n",
       "    </tr>\n",
       "    <tr>\n",
       "      <th>971</th>\n",
       "      <td>300</td>\n",
       "      <td>relu</td>\n",
       "      <td>11</td>\n",
       "      <td>Momentum_with_cosine</td>\n",
       "      <td>Xavier</td>\n",
       "      <td>0.0001</td>\n",
       "      <td>0.742313</td>\n",
       "      <td>21348.812099</td>\n",
       "      <td>0.000000</td>\n",
       "    </tr>\n",
       "  </tbody>\n",
       "</table>\n",
       "<p>972 rows × 9 columns</p>\n",
       "</div>"
      ],
      "text/plain": [
       "    Epochs Activation function Hidden nodes             Optimizer  \\\n",
       "0      100             sigmoid            5                   SGD   \n",
       "1      100             sigmoid            5                   SGD   \n",
       "2      100             sigmoid            5                   SGD   \n",
       "3      100             sigmoid            5       SGD_with_cosine   \n",
       "4      100             sigmoid            5       SGD_with_cosine   \n",
       "..     ...                 ...          ...                   ...   \n",
       "967    300                relu           11              Momentum   \n",
       "968    300                relu           11              Momentum   \n",
       "969    300                relu           11  Momentum_with_cosine   \n",
       "970    300                relu           11  Momentum_with_cosine   \n",
       "971    300                relu           11  Momentum_with_cosine   \n",
       "\n",
       "      Initializer Regularizer  In-sample RMSE  Out-of-sample RMSE  \\\n",
       "0    small_random           0        0.150369         7493.316221   \n",
       "1    small_random       0.001        0.113324         6595.178052   \n",
       "2    small_random      0.0001        0.092342         4027.546250   \n",
       "3    small_random           0        0.621299         8352.149034   \n",
       "4    small_random       0.001        1.297480        33354.532211   \n",
       "..            ...         ...             ...                 ...   \n",
       "967        Xavier       0.001        0.044021         1189.701702   \n",
       "968        Xavier      0.0001        0.045446         2146.052847   \n",
       "969        Xavier           0        0.984046        27641.121815   \n",
       "970        Xavier       0.001        0.935547        19179.876205   \n",
       "971        Xavier      0.0001        0.742313        21348.812099   \n",
       "\n",
       "     Out-of-sample Accuracy  \n",
       "0                  0.315789  \n",
       "1                  0.263158  \n",
       "2                  0.621053  \n",
       "3                  0.136842  \n",
       "4                  0.000000  \n",
       "..                      ...  \n",
       "967                0.978947  \n",
       "968                0.789474  \n",
       "969                0.000000  \n",
       "970                0.000000  \n",
       "971                0.000000  \n",
       "\n",
       "[972 rows x 9 columns]"
      ]
     },
     "execution_count": 42,
     "metadata": {},
     "output_type": "execute_result"
    }
   ],
   "source": [
    "RMSE_scores"
   ]
  },
  {
   "cell_type": "markdown",
   "metadata": {},
   "source": [
    "### The best top five models based on in-sample data"
   ]
  },
  {
   "cell_type": "code",
   "execution_count": 43,
   "metadata": {},
   "outputs": [
    {
     "data": {
      "text/html": [
       "<div>\n",
       "<style scoped>\n",
       "    .dataframe tbody tr th:only-of-type {\n",
       "        vertical-align: middle;\n",
       "    }\n",
       "\n",
       "    .dataframe tbody tr th {\n",
       "        vertical-align: top;\n",
       "    }\n",
       "\n",
       "    .dataframe thead th {\n",
       "        text-align: right;\n",
       "    }\n",
       "</style>\n",
       "<table border=\"1\" class=\"dataframe\">\n",
       "  <thead>\n",
       "    <tr style=\"text-align: right;\">\n",
       "      <th></th>\n",
       "      <th>Epochs</th>\n",
       "      <th>Activation function</th>\n",
       "      <th>Hidden nodes</th>\n",
       "      <th>Optimizer</th>\n",
       "      <th>Initializer</th>\n",
       "      <th>Regularizer</th>\n",
       "      <th>In-sample RMSE</th>\n",
       "      <th>Out-of-sample RMSE</th>\n",
       "      <th>Out-of-sample Accuracy</th>\n",
       "    </tr>\n",
       "  </thead>\n",
       "  <tbody>\n",
       "    <tr>\n",
       "      <th>962</th>\n",
       "      <td>300</td>\n",
       "      <td>relu</td>\n",
       "      <td>11</td>\n",
       "      <td>Adam</td>\n",
       "      <td>Xavier</td>\n",
       "      <td>0.0001</td>\n",
       "      <td>0.038538</td>\n",
       "      <td>2832.344756</td>\n",
       "      <td>0.726316</td>\n",
       "    </tr>\n",
       "    <tr>\n",
       "      <th>961</th>\n",
       "      <td>300</td>\n",
       "      <td>relu</td>\n",
       "      <td>11</td>\n",
       "      <td>Adam</td>\n",
       "      <td>Xavier</td>\n",
       "      <td>0.001</td>\n",
       "      <td>0.038808</td>\n",
       "      <td>1357.537362</td>\n",
       "      <td>0.957895</td>\n",
       "    </tr>\n",
       "    <tr>\n",
       "      <th>854</th>\n",
       "      <td>300</td>\n",
       "      <td>tanh</td>\n",
       "      <td>11</td>\n",
       "      <td>Adam</td>\n",
       "      <td>Xavier</td>\n",
       "      <td>0.0001</td>\n",
       "      <td>0.039540</td>\n",
       "      <td>1715.142202</td>\n",
       "      <td>0.915789</td>\n",
       "    </tr>\n",
       "    <tr>\n",
       "      <th>960</th>\n",
       "      <td>300</td>\n",
       "      <td>relu</td>\n",
       "      <td>11</td>\n",
       "      <td>Adam</td>\n",
       "      <td>Xavier</td>\n",
       "      <td>0</td>\n",
       "      <td>0.040212</td>\n",
       "      <td>2238.426956</td>\n",
       "      <td>0.884211</td>\n",
       "    </tr>\n",
       "    <tr>\n",
       "      <th>457</th>\n",
       "      <td>200</td>\n",
       "      <td>tanh</td>\n",
       "      <td>5</td>\n",
       "      <td>Adam</td>\n",
       "      <td>Xavier</td>\n",
       "      <td>0.001</td>\n",
       "      <td>0.040476</td>\n",
       "      <td>1873.267229</td>\n",
       "      <td>0.894737</td>\n",
       "    </tr>\n",
       "  </tbody>\n",
       "</table>\n",
       "</div>"
      ],
      "text/plain": [
       "    Epochs Activation function Hidden nodes Optimizer Initializer Regularizer  \\\n",
       "962    300                relu           11      Adam      Xavier      0.0001   \n",
       "961    300                relu           11      Adam      Xavier       0.001   \n",
       "854    300                tanh           11      Adam      Xavier      0.0001   \n",
       "960    300                relu           11      Adam      Xavier           0   \n",
       "457    200                tanh            5      Adam      Xavier       0.001   \n",
       "\n",
       "     In-sample RMSE  Out-of-sample RMSE  Out-of-sample Accuracy  \n",
       "962        0.038538         2832.344756                0.726316  \n",
       "961        0.038808         1357.537362                0.957895  \n",
       "854        0.039540         1715.142202                0.915789  \n",
       "960        0.040212         2238.426956                0.884211  \n",
       "457        0.040476         1873.267229                0.894737  "
      ]
     },
     "execution_count": 43,
     "metadata": {},
     "output_type": "execute_result"
    }
   ],
   "source": [
    "RMSE_scores.sort_values(\"In-sample RMSE\", inplace=True)\n",
    "RMSE_scores.head(5)"
   ]
  },
  {
   "cell_type": "markdown",
   "metadata": {},
   "source": [
    "### Ensemble the top 5 models"
   ]
  },
  {
   "cell_type": "code",
   "execution_count": 51,
   "metadata": {},
   "outputs": [
    {
     "name": "stdout",
     "output_type": "stream",
     "text": [
      "RMSE of ensembling the top 5 models: 1855.32180\n",
      "Accuracy of ensembling the top 5 models: 0.90526\n"
     ]
    },
    {
     "data": {
      "image/png": "[encoded data removed]",
      "text/plain": [
       "<Figure size 720x288 with 1 Axes>"
      ]
     },
     "metadata": {
      "needs_background": "light"
     },
     "output_type": "display_data"
    }
   ],
   "source": [
    "top_five_model = predicts.iloc[list(RMSE_scores.head(5).index),:]\n",
    "ensemble_predict = top_five_model.apply(lambda x: x.mean())\n",
    "ensemble_RMSE = np.sqrt(mean_squared_error(ensemble_predict, data[3]))\n",
    "emsemble_accuracy = accuracy_eva(data[3], ensemble_predict, 3000)\n",
    "print(\"RMSE of ensembling the top 5 models: %.5f\" %ensemble_RMSE)\n",
    "print(\"Accuracy of ensembling the top 5 models: %.5f\" %emsemble_accuracy)\n",
    "\n",
    "plt.figure(figsize=(10,4))\n",
    "plt.scatter(range(data[3].shape[0]), data[3], color='black', label = 'Raw data')\n",
    "plt.plot(ensemble_predict, label = 'Predicted value')\n",
    "plt.legend()\n",
    "plt.xlabel(\"Sample index (weekly)\")\n",
    "plt.ylabel(\"Cooper price value\")\n",
    "plt.savefig('Result_ensemble_model.png')"
   ]
  },
  {
   "cell_type": "markdown",
   "metadata": {},
   "source": [
    "### Save all the results of model configuration in in-sample data as Settings_RMSE_scores.csv"
   ]
  },
  {
   "cell_type": "code",
   "execution_count": 55,
   "metadata": {},
   "outputs": [
    {
     "data": {
      "text/html": [
       "<div>\n",
       "<style scoped>\n",
       "    .dataframe tbody tr th:only-of-type {\n",
       "        vertical-align: middle;\n",
       "    }\n",
       "\n",
       "    .dataframe tbody tr th {\n",
       "        vertical-align: top;\n",
       "    }\n",
       "\n",
       "    .dataframe thead th {\n",
       "        text-align: right;\n",
       "    }\n",
       "</style>\n",
       "<table border=\"1\" class=\"dataframe\">\n",
       "  <thead>\n",
       "    <tr style=\"text-align: right;\">\n",
       "      <th></th>\n",
       "      <th>Epochs</th>\n",
       "      <th>Activation function</th>\n",
       "      <th>Hidden nodes</th>\n",
       "      <th>Optimizer</th>\n",
       "      <th>Initializer</th>\n",
       "      <th>Regularizer</th>\n",
       "      <th>In-sample RMSE</th>\n",
       "      <th>Out-of-sample RMSE</th>\n",
       "      <th>Out-of-sample Accuracy</th>\n",
       "    </tr>\n",
       "  </thead>\n",
       "  <tbody>\n",
       "    <tr>\n",
       "      <th>0</th>\n",
       "      <td>300</td>\n",
       "      <td>relu</td>\n",
       "      <td>11</td>\n",
       "      <td>Momentum</td>\n",
       "      <td>Xavier</td>\n",
       "      <td>0.001</td>\n",
       "      <td>0.044021</td>\n",
       "      <td>1189.701702</td>\n",
       "      <td>0.978947</td>\n",
       "    </tr>\n",
       "    <tr>\n",
       "      <th>1</th>\n",
       "      <td>300</td>\n",
       "      <td>tanh</td>\n",
       "      <td>8</td>\n",
       "      <td>Momentum</td>\n",
       "      <td>Xavier</td>\n",
       "      <td>0.001</td>\n",
       "      <td>0.043162</td>\n",
       "      <td>1236.558210</td>\n",
       "      <td>0.968421</td>\n",
       "    </tr>\n",
       "    <tr>\n",
       "      <th>2</th>\n",
       "      <td>200</td>\n",
       "      <td>relu</td>\n",
       "      <td>8</td>\n",
       "      <td>Adam</td>\n",
       "      <td>Xavier</td>\n",
       "      <td>0.0001</td>\n",
       "      <td>0.045904</td>\n",
       "      <td>1250.488904</td>\n",
       "      <td>0.978947</td>\n",
       "    </tr>\n",
       "    <tr>\n",
       "      <th>3</th>\n",
       "      <td>300</td>\n",
       "      <td>relu</td>\n",
       "      <td>11</td>\n",
       "      <td>Adam</td>\n",
       "      <td>Xavier</td>\n",
       "      <td>0.001</td>\n",
       "      <td>0.038808</td>\n",
       "      <td>1357.537362</td>\n",
       "      <td>0.957895</td>\n",
       "    </tr>\n",
       "    <tr>\n",
       "      <th>4</th>\n",
       "      <td>200</td>\n",
       "      <td>tanh</td>\n",
       "      <td>8</td>\n",
       "      <td>SGD</td>\n",
       "      <td>Xavier</td>\n",
       "      <td>0.001</td>\n",
       "      <td>0.062490</td>\n",
       "      <td>1371.726770</td>\n",
       "      <td>0.978947</td>\n",
       "    </tr>\n",
       "    <tr>\n",
       "      <th>...</th>\n",
       "      <td>...</td>\n",
       "      <td>...</td>\n",
       "      <td>...</td>\n",
       "      <td>...</td>\n",
       "      <td>...</td>\n",
       "      <td>...</td>\n",
       "      <td>...</td>\n",
       "      <td>...</td>\n",
       "      <td>...</td>\n",
       "    </tr>\n",
       "    <tr>\n",
       "      <th>967</th>\n",
       "      <td>300</td>\n",
       "      <td>relu</td>\n",
       "      <td>5</td>\n",
       "      <td>Momentum_with_cosine</td>\n",
       "      <td>small_random</td>\n",
       "      <td>0.0001</td>\n",
       "      <td>2.293166</td>\n",
       "      <td>108397.322386</td>\n",
       "      <td>0.000000</td>\n",
       "    </tr>\n",
       "    <tr>\n",
       "      <th>968</th>\n",
       "      <td>200</td>\n",
       "      <td>relu</td>\n",
       "      <td>11</td>\n",
       "      <td>SGD_with_cosine</td>\n",
       "      <td>small_random</td>\n",
       "      <td>0.0001</td>\n",
       "      <td>2.983937</td>\n",
       "      <td>112366.095485</td>\n",
       "      <td>0.000000</td>\n",
       "    </tr>\n",
       "    <tr>\n",
       "      <th>969</th>\n",
       "      <td>200</td>\n",
       "      <td>relu</td>\n",
       "      <td>11</td>\n",
       "      <td>SGD_with_cosine</td>\n",
       "      <td>small_random</td>\n",
       "      <td>0</td>\n",
       "      <td>2.846512</td>\n",
       "      <td>114962.508500</td>\n",
       "      <td>0.000000</td>\n",
       "    </tr>\n",
       "    <tr>\n",
       "      <th>970</th>\n",
       "      <td>200</td>\n",
       "      <td>relu</td>\n",
       "      <td>5</td>\n",
       "      <td>SGD_with_cosine</td>\n",
       "      <td>small_random</td>\n",
       "      <td>0.0001</td>\n",
       "      <td>4.631748</td>\n",
       "      <td>130157.473882</td>\n",
       "      <td>0.000000</td>\n",
       "    </tr>\n",
       "    <tr>\n",
       "      <th>971</th>\n",
       "      <td>300</td>\n",
       "      <td>relu</td>\n",
       "      <td>8</td>\n",
       "      <td>SGD_with_cosine</td>\n",
       "      <td>small_random</td>\n",
       "      <td>0.0001</td>\n",
       "      <td>2.917233</td>\n",
       "      <td>144803.466131</td>\n",
       "      <td>0.000000</td>\n",
       "    </tr>\n",
       "  </tbody>\n",
       "</table>\n",
       "<p>972 rows × 9 columns</p>\n",
       "</div>"
      ],
      "text/plain": [
       "    Epochs Activation function Hidden nodes             Optimizer  \\\n",
       "0      300                relu           11              Momentum   \n",
       "1      300                tanh            8              Momentum   \n",
       "2      200                relu            8                  Adam   \n",
       "3      300                relu           11                  Adam   \n",
       "4      200                tanh            8                   SGD   \n",
       "..     ...                 ...          ...                   ...   \n",
       "967    300                relu            5  Momentum_with_cosine   \n",
       "968    200                relu           11       SGD_with_cosine   \n",
       "969    200                relu           11       SGD_with_cosine   \n",
       "970    200                relu            5       SGD_with_cosine   \n",
       "971    300                relu            8       SGD_with_cosine   \n",
       "\n",
       "      Initializer Regularizer  In-sample RMSE  Out-of-sample RMSE  \\\n",
       "0          Xavier       0.001        0.044021         1189.701702   \n",
       "1          Xavier       0.001        0.043162         1236.558210   \n",
       "2          Xavier      0.0001        0.045904         1250.488904   \n",
       "3          Xavier       0.001        0.038808         1357.537362   \n",
       "4          Xavier       0.001        0.062490         1371.726770   \n",
       "..            ...         ...             ...                 ...   \n",
       "967  small_random      0.0001        2.293166       108397.322386   \n",
       "968  small_random      0.0001        2.983937       112366.095485   \n",
       "969  small_random           0        2.846512       114962.508500   \n",
       "970  small_random      0.0001        4.631748       130157.473882   \n",
       "971  small_random      0.0001        2.917233       144803.466131   \n",
       "\n",
       "     Out-of-sample Accuracy  \n",
       "0                  0.978947  \n",
       "1                  0.968421  \n",
       "2                  0.978947  \n",
       "3                  0.957895  \n",
       "4                  0.978947  \n",
       "..                      ...  \n",
       "967                0.000000  \n",
       "968                0.000000  \n",
       "969                0.000000  \n",
       "970                0.000000  \n",
       "971                0.000000  \n",
       "\n",
       "[972 rows x 9 columns]"
      ]
     },
     "execution_count": 55,
     "metadata": {},
     "output_type": "execute_result"
    }
   ],
   "source": [
    "RMSE_scores.reset_index(inplace=True, drop=True)\n",
    "RMSE_scores.to_csv(\"Settings_score_DINKLE.csv\", index=False)\n",
    "RMSE_scores"
   ]
  },
  {
   "cell_type": "markdown",
   "metadata": {},
   "source": [
    "### The best configuration in out-of-sample data"
   ]
  },
  {
   "cell_type": "code",
   "execution_count": 53,
   "metadata": {},
   "outputs": [
    {
     "data": {
      "text/html": [
       "<div>\n",
       "<style scoped>\n",
       "    .dataframe tbody tr th:only-of-type {\n",
       "        vertical-align: middle;\n",
       "    }\n",
       "\n",
       "    .dataframe tbody tr th {\n",
       "        vertical-align: top;\n",
       "    }\n",
       "\n",
       "    .dataframe thead th {\n",
       "        text-align: right;\n",
       "    }\n",
       "</style>\n",
       "<table border=\"1\" class=\"dataframe\">\n",
       "  <thead>\n",
       "    <tr style=\"text-align: right;\">\n",
       "      <th></th>\n",
       "      <th>Epochs</th>\n",
       "      <th>Activation function</th>\n",
       "      <th>Hidden nodes</th>\n",
       "      <th>Optimizer</th>\n",
       "      <th>Initializer</th>\n",
       "      <th>Regularizer</th>\n",
       "      <th>In-sample RMSE</th>\n",
       "      <th>Out-of-sample RMSE</th>\n",
       "      <th>Out-of-sample Accuracy</th>\n",
       "    </tr>\n",
       "  </thead>\n",
       "  <tbody>\n",
       "    <tr>\n",
       "      <th>0</th>\n",
       "      <td>300</td>\n",
       "      <td>relu</td>\n",
       "      <td>11</td>\n",
       "      <td>Momentum</td>\n",
       "      <td>Xavier</td>\n",
       "      <td>0.001</td>\n",
       "      <td>0.044021</td>\n",
       "      <td>1189.701702</td>\n",
       "      <td>0.978947</td>\n",
       "    </tr>\n",
       "  </tbody>\n",
       "</table>\n",
       "</div>"
      ],
      "text/plain": [
       "  Epochs Activation function Hidden nodes Optimizer Initializer Regularizer  \\\n",
       "0    300                relu           11  Momentum      Xavier       0.001   \n",
       "\n",
       "   In-sample RMSE  Out-of-sample RMSE  Out-of-sample Accuracy  \n",
       "0        0.044021         1189.701702                0.978947  "
      ]
     },
     "execution_count": 53,
     "metadata": {},
     "output_type": "execute_result"
    }
   ],
   "source": [
    "RMSE_scores.sort_values(\"Out-of-sample RMSE\", inplace=True)\n",
    "RMSE_scores.reset_index(inplace=True, drop=True)\n",
    "RMSE_scores[RMSE_scores[\"Out-of-sample RMSE\"]==min(RMSE_scores[\"Out-of-sample RMSE\"])]"
   ]
  }
 ],
 "metadata": {
  "accelerator": "GPU",
  "colab": {
   "collapsed_sections": [],
   "name": "HW2.ipynb",
   "provenance": []
  },
  "kernelspec": {
   "display_name": "Python 3",
   "language": "python",
   "name": "python3"
  },
  "language_info": {
   "codemirror_mode": {
    "name": "ipython",
    "version": 3
   },
   "file_extension": ".py",
   "mimetype": "text/x-python",
   "name": "python",
   "nbconvert_exporter": "python",
   "pygments_lexer": "ipython3",
   "version": "3.6.9"
  }
 },
 "nbformat": 4,
 "nbformat_minor": 4
}
