{
 "cells": [
  {
   "cell_type": "code",
   "execution_count": 1,
   "metadata": {},
   "outputs": [
    {
     "name": "stdout",
     "output_type": "stream",
     "text": [
      "[0 1 2]\n",
      "[2 3 4]\n",
      "[4 5 6]\n",
      "[6 7]\n"
     ]
    }
   ],
   "source": [
    "from window_slider import Slider\n",
    "import numpy\n",
    "list = numpy.array([0, 1, 2, 3, 4, 5, 6, 7])\n",
    "bucket_size = 3\n",
    "overlap_count = 1\n",
    "slider = Slider(bucket_size,overlap_count)\n",
    "slider.fit(list)       \n",
    "while True:\n",
    "    window_data = slider.slide()\n",
    "    # do your stuff\n",
    "    print(window_data)\n",
    "    if slider.reached_end_of_list(): break\n",
    "        \n",
    "#Source: https://pypi.org/project/window-slider/"
   ]
  }
 ],
 "metadata": {
  "kernelspec": {
   "display_name": "Python 3",
   "language": "python",
   "name": "python3"
  },
  "language_info": {
   "codemirror_mode": {
    "name": "ipython",
    "version": 3
   },
   "file_extension": ".py",
   "mimetype": "text/x-python",
   "name": "python",
   "nbconvert_exporter": "python",
   "pygments_lexer": "ipython3",
   "version": "3.6.9"
  }
 },
 "nbformat": 4,
 "nbformat_minor": 4
}
